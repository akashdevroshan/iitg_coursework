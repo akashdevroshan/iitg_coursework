{
 "cells": [
  {
   "cell_type": "code",
   "execution_count": 4,
   "metadata": {},
   "outputs": [
    {
     "name": "stdout",
     "output_type": "stream",
     "text": [
      "value of a1 =  0 and b1 =  1\n",
      "\n",
      "mean of a1,b1 is:  0.5\n",
      "median of a1,b1 is:  0.5\n",
      "mode of a1,b1 is:  0\n",
      "variance of a1,b1:  0.08333333333333333\n"
     ]
    },
    {
     "data": {
      "image/png": "[encoded data removed]",
      "text/plain": [
       "<Figure size 432x288 with 1 Axes>"
      ]
     },
     "metadata": {
      "needs_background": "light"
     },
     "output_type": "display_data"
    },
    {
     "data": {
      "image/png": "[encoded data removed]",
      "text/plain": [
       "<Figure size 432x288 with 1 Axes>"
      ]
     },
     "metadata": {
      "needs_background": "light"
     },
     "output_type": "display_data"
    }
   ],
   "source": [
    "import numpy as np\n",
    "import matplotlib.pyplot as plt\n",
    "\n",
    "def uniform_pdf(x,a,b):\n",
    "    if a <= x <= b:\n",
    "        return 1/(b-a)\n",
    "    else:\n",
    "        return 0\n",
    "    \n",
    "def uniform_cdf(x,a,b):\n",
    "    if x < a:\n",
    "        return 0\n",
    "    elif a <= x <= b:\n",
    "        return (x-a)/(b-a)\n",
    "    elif x>=b:\n",
    "        return 1\n",
    "    \n",
    "def mean(a,b):\n",
    "    return (a+b)/2\n",
    "\n",
    "def median(a,b):\n",
    "    return (a+b)/2\n",
    "\n",
    "def mode(a,b):\n",
    "    return a\n",
    "\n",
    "def variance(a,b):\n",
    "    return ((b-a)**2)/12\n",
    "\n",
    "    \n",
    "a1 = 0\n",
    "b1 = 1\n",
    "print(\"value of a1 = \",a1,\"and b1 = \",b1)\n",
    "\n",
    "\n",
    "\n",
    "print(\"\\nmean of a1,b1 is: \",mean(a1,b1))\n",
    "print(\"median of a1,b1 is: \",median(a1,b1))\n",
    "print(\"mode of a1,b1 is: \",mode(a1,b1))\n",
    "print(\"variance of a1,b1: \",variance(a1,b1))\n",
    "\n",
    "\n",
    "x1 = (a1+b1)/2\n",
    "x2 = (a2+b2)/2\n",
    "x3 = (a3+b3)/2\n",
    "\n",
    "fig, ax1 = plt.subplots()\n",
    "fig, ax2 = plt.subplots()\n",
    "\n",
    "ax1.plot(np.linspace(a1 - 1,b1 + 1,num=1000),[uniform_pdf(x,a1,b1) for x in np.linspace(a1-1,b1+1,num=1000)])\n",
    "ax1.set_title(\"Uniform pdf(a1,b1) 1\")\n",
    "\n",
    "\n",
    "\n",
    "ax2.plot(np.linspace(a1 - 1,b1 + 1,num=1000),[uniform_cdf(x,a1,b1) for x in np.linspace(a1-1,b1+1,num=1000)])\n",
    "ax2.set_title(\"Uniform cdf(a1,b1) 1\")\n",
    "\n",
    "plt.show()\n"
   ]
  },
  {
   "cell_type": "code",
   "execution_count": null,
   "metadata": {},
   "outputs": [],
   "source": []
  }
 ],
 "metadata": {
  "kernelspec": {
   "display_name": "Python 3",
   "language": "python",
   "name": "python3"
  },
  "language_info": {
   "codemirror_mode": {
    "name": "ipython",
    "version": 3
   },
   "file_extension": ".py",
   "mimetype": "text/x-python",
   "name": "python",
   "nbconvert_exporter": "python",
   "pygments_lexer": "ipython3",
   "version": "3.8.5"
  }
 },
 "nbformat": 4,
 "nbformat_minor": 4
}
